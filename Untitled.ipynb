{
 "cells": [
  {
   "cell_type": "markdown",
   "id": "b74c49eb",
   "metadata": {},
   "source": [
    "# Calcular o drawdown máximo de um ativo"
   ]
  },
  {
   "cell_type": "markdown",
   "id": "49169b25",
   "metadata": {},
   "source": [
    "## 1.0 Bibliotecas"
   ]
  },
  {
   "cell_type": "code",
   "execution_count": 1,
   "id": "781ee6b9",
   "metadata": {},
   "outputs": [],
   "source": [
    "import yfinance            as yf\n",
    "import datetime            as dt\n",
    "\n",
    "import matplotlib.pyplot   as plt\n",
    "import matplotlib.ticker   as mtick\n",
    "import matplotlib.dates    as mdate\n",
    "\n",
    "import mplcyberpunk # biblioteca de estilização de gráficos\n",
    "\n",
    "plt.style.use('cyberpunk') # ativando o cyberpunk"
   ]
  },
  {
   "cell_type": "code",
   "execution_count": null,
   "id": "2606939b",
   "metadata": {},
   "outputs": [],
   "source": []
  }
 ],
 "metadata": {
  "kernelspec": {
   "display_name": "Python 3 (ipykernel)",
   "language": "python",
   "name": "python3"
  },
  "language_info": {
   "codemirror_mode": {
    "name": "ipython",
    "version": 3
   },
   "file_extension": ".py",
   "mimetype": "text/x-python",
   "name": "python",
   "nbconvert_exporter": "python",
   "pygments_lexer": "ipython3",
   "version": "3.10.9"
  }
 },
 "nbformat": 4,
 "nbformat_minor": 5
}
