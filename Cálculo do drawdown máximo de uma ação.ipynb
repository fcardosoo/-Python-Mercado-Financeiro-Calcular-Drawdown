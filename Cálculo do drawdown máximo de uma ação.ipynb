{
 "cells": [
  {
   "cell_type": "markdown",
   "id": "c36523c7",
   "metadata": {},
   "source": [
    "# Calcular o drawdown máximo de um ativo"
   ]
  },
  {
   "cell_type": "markdown",
   "id": "852492b4",
   "metadata": {},
   "source": [
    "## 1.0 Bibliotecas"
   ]
  },
  {
   "cell_type": "code",
   "execution_count": 1,
   "id": "a4e7d359",
   "metadata": {},
   "outputs": [],
   "source": [
    "import yfinance            as yf\n",
    "import datetime            as dt\n",
    "\n",
    "import matplotlib.pyplot   as plt\n",
    "import matplotlib.ticker   as mtick\n",
    "import matplotlib.dates    as mdate\n",
    "\n",
    "import mplcyberpunk # biblioteca de estilização de gráficos\n",
    "\n",
    "plt.style.use('cyberpunk') # ativando o cyberpunk"
   ]
  },
  {
   "cell_type": "markdown",
   "id": "ddaa053f",
   "metadata": {},
   "source": [
    "## 2.0 Obtendo os dados"
   ]
  },
  {
   "cell_type": "code",
   "execution_count": 3,
   "id": "a9407f6b",
   "metadata": {},
   "outputs": [
    {
     "name": "stdout",
     "output_type": "stream",
     "text": [
      "[*********************100%***********************]  1 of 1 completed\n"
     ]
    },
    {
     "data": {
      "text/plain": [
       "Date\n",
       "2019-04-23    11.324907\n",
       "2019-04-24    11.292174\n",
       "2019-04-25    11.373999\n",
       "2019-04-26    11.156800\n",
       "2019-04-29    11.205933\n",
       "                ...    \n",
       "2023-05-25    26.450001\n",
       "2023-05-26    26.799999\n",
       "2023-05-29    26.690001\n",
       "2023-05-30    26.389999\n",
       "2023-05-31    26.120001\n",
       "Name: Adj Close, Length: 1021, dtype: float64"
      ]
     },
     "execution_count": 3,
     "metadata": {},
     "output_type": "execute_result"
    }
   ],
   "source": [
    "dt_final = dt.datetime.now() # definindo a data atual como a data final\n",
    "dt_inicial = dt_final - dt.timedelta(days = 1500) # definindo o período de análise em relação a data atual, no caso 1500 dias\n",
    "\n",
    "ativo = 'PETR4.SA' # definindo o ativo de interesse. *OBS: incluir '.SA' para o yfinance encontrar o ativo brasileiro\n",
    "\n",
    "precos = yf.download(ativo, dt_inicial, dt_final)['Adj Close']\n",
    "\n",
    "precos"
   ]
  },
  {
   "cell_type": "markdown",
   "id": "fc839627",
   "metadata": {},
   "source": [
    "## 3.0 Calculando o drawdown"
   ]
  },
  {
   "cell_type": "code",
   "execution_count": 5,
   "id": "73f134cc",
   "metadata": {},
   "outputs": [
    {
     "name": "stdout",
     "output_type": "stream",
     "text": [
      "-0.633560469255263\n"
     ]
    }
   ],
   "source": [
    "preco_max = precos.cummax() # para cada linha, busca o preço máximo até aquela data\n",
    "drawdowns = precos/preco_max - 1 # calcula a variação entre a Máxima histórica até a data em questão e o preço atual, subtrai-se 1 para tornar o resultado negativo\n",
    "drawdown_maximo = drawdowns.min() # '.min()' retorna a maior variação negativa (maior drawdown)\n",
    "\n",
    "print(drawdown_maximo) # exibe o maior drawdown no período"
   ]
  },
  {
   "cell_type": "markdown",
   "id": "68453119",
   "metadata": {},
   "source": [
    "## 4.0 Exibindo graficamente"
   ]
  },
  {
   "cell_type": "code",
   "execution_count": null,
   "id": "9504715d",
   "metadata": {},
   "outputs": [],
   "source": [
    "fix, ax = plt.subplots()\n",
    "\n",
    "ax.plot(drawdowns.index, drawdowns)\n",
    "ax.yaxis.set_major_formatter(mtick.PercentFormatter())"
   ]
  }
 ],
 "metadata": {
  "kernelspec": {
   "display_name": "Python 3 (ipykernel)",
   "language": "python",
   "name": "python3"
  },
  "language_info": {
   "codemirror_mode": {
    "name": "ipython",
    "version": 3
   },
   "file_extension": ".py",
   "mimetype": "text/x-python",
   "name": "python",
   "nbconvert_exporter": "python",
   "pygments_lexer": "ipython3",
   "version": "3.10.9"
  }
 },
 "nbformat": 4,
 "nbformat_minor": 5
}
