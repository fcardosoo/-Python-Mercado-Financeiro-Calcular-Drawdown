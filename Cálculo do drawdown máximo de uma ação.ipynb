{
 "cells": [
  {
   "cell_type": "markdown",
   "id": "589f9fbe",
   "metadata": {},
   "source": [
    "# Calcular o drawdown máximo de um ativo"
   ]
  },
  {
   "cell_type": "markdown",
   "id": "776755a9",
   "metadata": {},
   "source": [
    "## 1.0 Bibliotecas"
   ]
  },
  {
   "cell_type": "code",
   "execution_count": 1,
   "id": "c1ee187d",
   "metadata": {},
   "outputs": [],
   "source": [
    "import yfinance            as yf\n",
    "import datetime            as dt\n",
    "\n",
    "import matplotlib.pyplot   as plt\n",
    "import matplotlib.ticker   as mtick\n",
    "import matplotlib.dates    as mdate\n",
    "\n",
    "import mplcyberpunk # biblioteca de estilização de gráficos\n",
    "\n",
    "plt.style.use('cyberpunk') # ativando o cyberpunk"
   ]
  },
  {
   "cell_type": "code",
   "execution_count": null,
   "id": "ed31fb65",
   "metadata": {},
   "outputs": [],
   "source": [
    "dt_inicial = data_final - dt.timedelta(days = 1500) # definindo o período de análise em relação a data atual, no caso 1500 dias\n",
    "dt_final = dt.datetime.now() # definindo a data atual como a data final\n",
    "ativo = 'PETR4.SA' # definindo o ativo de interesse. *OBS: incluir '.SA' para o yfinance encontrar o ativo brasileiro\n",
    "\n",
    "precos = yf.download(ativo, dt_inicial, dt_final)['Adj Close']\n",
    "\n",
    "precos"
   ]
  }
 ],
 "metadata": {
  "kernelspec": {
   "display_name": "Python 3 (ipykernel)",
   "language": "python",
   "name": "python3"
  },
  "language_info": {
   "codemirror_mode": {
    "name": "ipython",
    "version": 3
   },
   "file_extension": ".py",
   "mimetype": "text/x-python",
   "name": "python",
   "nbconvert_exporter": "python",
   "pygments_lexer": "ipython3",
   "version": "3.10.9"
  }
 },
 "nbformat": 4,
 "nbformat_minor": 5
}
